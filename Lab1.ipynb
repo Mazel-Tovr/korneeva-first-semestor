{
  "nbformat": 4,
  "nbformat_minor": 0,
  "metadata": {
    "colab": {
      "name": "Lab1.ipynb",
      "provenance": [],
      "collapsed_sections": []
    },
    "kernelspec": {
      "name": "python3",
      "display_name": "Python 3"
    },
    "language_info": {
      "name": "python"
    }
  },
  "cells": [
    {
      "cell_type": "code",
      "metadata": {
        "id": "MsaI05gJRupC"
      },
      "source": [
        "import pandas as pd\n",
        "import numpy as np\n",
        "import matplotlib.pyplot as plt\n",
        "import seaborn as sns\n",
        "import re\n",
        "import datetime as dt\n",
        "\n",
        "\n",
        "#pd.set_option('display.max_columns', None)\n",
        "\n",
        "data = pd.read_csv(\"ufo_sighting_data.csv\")\n",
        "print(data.head(10))"
      ],
      "execution_count": null,
      "outputs": []
    },
    {
      "cell_type": "code",
      "metadata": {
        "id": "D3g2-q8tVsdc"
      },
      "source": [
        "print(\"количество строк: \" + str(len(data.index)))\n",
        "print(\"количество столбцов: \" + str(len(data.columns))) \n",
        "datatypes = data.dtypes\n",
        "i = 1 \n",
        "for dtype in datatypes: \n",
        "  print(\"Номер столбца: \" + str(i) + \"   Тип данных: \" + str(dtype))\n",
        "  i = i + 1"
      ],
      "execution_count": null,
      "outputs": []
    },
    {
      "cell_type": "code",
      "metadata": {
        "id": "AVzDW2qJYnji"
      },
      "source": [
        "print(\"Средняя долгота: \" + str(data[\"longitude\"].mean()))\n",
        "print(\"Максимальная долгота: \" + str(data[\"longitude\"].max()))\n",
        "print(\"Минимальная долгота: \" + str(data[\"longitude\"].min()))"
      ],
      "execution_count": null,
      "outputs": []
    },
    {
      "cell_type": "code",
      "metadata": {
        "id": "V1A52e9neLds"
      },
      "source": [
        "data[\"Date_time\"] = data[\"Date_time\"].str.replace(\"24:\", \"00:\")\n",
        "data[\"Date_time\"] = pd.to_datetime(data[\"Date_time\"])\n",
        "data[\"Year\"] = data[\"Date_time\"].dt.year\n",
        "print(data[\"Year\"].head())"
      ],
      "execution_count": null,
      "outputs": []
    },
    {
      "cell_type": "code",
      "metadata": {
        "id": "bz8wII3Q6Tob"
      },
      "source": [
        "New_row = {\"Date_time\": \"29/9/2021 23:00\", \"state/province\": \"tx\", \"country\": \"us\"}\n",
        "data = data.append(New_row, ignore_index=True)\n",
        "print(data.tail())"
      ],
      "execution_count": null,
      "outputs": []
    },
    {
      "cell_type": "code",
      "metadata": {
        "id": "s05h5gyGza58"
      },
      "source": [
        "# вариант 3, задача 1\n",
        "task1 = data[(data['Date_time'] >='10/10/1950 00:00:00') & (data['Date_time'] <='10/10/1960 23:59:59')]\n",
        "print(task1)"
      ],
      "execution_count": null,
      "outputs": []
    },
    {
      "cell_type": "code",
      "metadata": {
        "id": "q4pzoUMQ7dcc"
      },
      "source": [
        "# вариант 3, задача 2\n",
        "print(data[\"UFO_shape\"].value_counts())\n",
        "print(data[\"country\"].value_counts())"
      ],
      "execution_count": null,
      "outputs": []
    },
    {
      "cell_type": "code",
      "metadata": {
        "id": "N2WiLLoEuJ6H"
      },
      "source": [
        ""
      ],
      "execution_count": null,
      "outputs": []
    }
  ]
}